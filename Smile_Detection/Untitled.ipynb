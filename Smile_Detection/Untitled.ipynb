{
 "cells": [
  {
   "cell_type": "code",
   "execution_count": 1,
   "metadata": {},
   "outputs": [
    {
     "name": "stdout",
     "output_type": "stream",
     "text": [
      "[INFO] STARTING\n"
     ]
    },
    {
     "ename": "KeyboardInterrupt",
     "evalue": "",
     "output_type": "error",
     "traceback": [
      "\u001b[0;31m---------------------------------------------------------------------------\u001b[0m",
      "\u001b[0;31mKeyboardInterrupt\u001b[0m                         Traceback (most recent call last)",
      "\u001b[0;32m<ipython-input-1-a0b85806828f>\u001b[0m in \u001b[0;36m<module>\u001b[0;34m\u001b[0m\n\u001b[1;32m     18\u001b[0m         \u001b[0mframe\u001b[0m \u001b[0;34m=\u001b[0m \u001b[0mvs\u001b[0m\u001b[0;34m.\u001b[0m\u001b[0mread\u001b[0m\u001b[0;34m(\u001b[0m\u001b[0;34m)\u001b[0m\u001b[0;34m\u001b[0m\u001b[0;34m\u001b[0m\u001b[0m\n\u001b[1;32m     19\u001b[0m         \u001b[0mgray\u001b[0m \u001b[0;34m=\u001b[0m \u001b[0mcv2\u001b[0m\u001b[0;34m.\u001b[0m\u001b[0mcvtColor\u001b[0m\u001b[0;34m(\u001b[0m\u001b[0mframe\u001b[0m\u001b[0;34m,\u001b[0m \u001b[0mcv2\u001b[0m\u001b[0;34m.\u001b[0m\u001b[0mCOLOR_BGR2GRAY\u001b[0m\u001b[0;34m)\u001b[0m\u001b[0;34m\u001b[0m\u001b[0;34m\u001b[0m\u001b[0m\n\u001b[0;32m---> 20\u001b[0;31m         \u001b[0mrects\u001b[0m \u001b[0;34m=\u001b[0m \u001b[0mdetector\u001b[0m\u001b[0;34m(\u001b[0m\u001b[0mgray\u001b[0m\u001b[0;34m,\u001b[0m \u001b[0;36m0\u001b[0m\u001b[0;34m)\u001b[0m\u001b[0;34m\u001b[0m\u001b[0;34m\u001b[0m\u001b[0m\n\u001b[0m\u001b[1;32m     21\u001b[0m         \u001b[0mdiff_smile\u001b[0m\u001b[0;34m=\u001b[0m\u001b[0;36m0\u001b[0m\u001b[0;34m\u001b[0m\u001b[0;34m\u001b[0m\u001b[0m\n\u001b[1;32m     22\u001b[0m \u001b[0;34m\u001b[0m\u001b[0m\n",
      "\u001b[0;31mKeyboardInterrupt\u001b[0m: "
     ]
    }
   ],
   "source": [
    "\n",
    "from imutils.video import VideoStream\n",
    "from imutils import face_utils\n",
    "\n",
    "import dlib,time,cv2,os\n",
    "\n",
    "shape_predictor=\"shape_predictor_68_face_landmarks.dat\" \n",
    "detector = dlib.get_frontal_face_detector()\n",
    "predictor = dlib.shape_predictor(shape_predictor)\n",
    "print(\"[INFO] STARTING\")\n",
    "\n",
    "vs = VideoStream(src=0).start()\n",
    "\n",
    "time.sleep(2.0)\n",
    "j, dist_smile_val,  diff_chx,  diff_chy, cnt =0,0, 0,0, 0\n",
    "\n",
    "while True:\n",
    "        \n",
    "        frame = vs.read()\n",
    "        gray = cv2.cvtColor(frame, cv2.COLOR_BGR2GRAY)\n",
    "        rects = detector(gray, 0)\n",
    "        diff_smile=0\n",
    "      \n",
    "        cv2.imshow(\"Frame\", frame)\n",
    "        \n",
    "        x49,y49,x55,y55=0,0,0,0\n",
    "        dist_smile=0\n",
    "        for rect in rects:\n",
    "                shape = predictor(gray, rect)\n",
    "                shape = face_utils.shape_to_np(shape)\n",
    "                i=1\n",
    "                x1,y1,w,h=0,0,0,0\n",
    "                j=j+1\n",
    "                \n",
    "                for (x, y) in shape:\n",
    "                        \n",
    "                        cv2.circle(frame, (x, y), 1, (0, 0, 255), -1)\n",
    "                        \n",
    "\n",
    "                        \n",
    "                        if(i==49):\n",
    "                                x49=x\n",
    "                                y49=y\n",
    "                        elif(i==55):\n",
    "                                x55=x\n",
    "                                y55=y\n",
    "                                dist_smile=((x49-x55)**2+(y49-y55)**2)**0.5\n",
    "                                \n",
    "                                if j==1:\n",
    "                                        dist_smile_val = dist_smile\n",
    "                                \n",
    "                                if dist_smile_val>dist_smile:\n",
    "                                        dist_smile_val = dist_smile\n",
    "                                \n",
    "                                if (dist_smile-dist_smile_val)>20:\n",
    "                                        dist_smile_val = dist_smile\n",
    "                                if abs(dist_smile-dist_smile_val)<1 and j!=1:\n",
    "                                        dist_smile_val=dist_smile_val-5\n",
    "\n",
    "\n",
    "         \n",
    "                        if diff_chx<10 and diff_chy<10:\n",
    "                               \n",
    "                                \n",
    "                                if dist_smile-dist_smile_val>10  and j!=1:\n",
    "                                        cnt = cnt +1 \n",
    "                                        \n",
    "                                        if cnt>10:\n",
    "                                                cv2.putText(frame,'Smile', (50, 50),cv2.FONT_HERSHEY_SIMPLEX, 2, (0, 0, 255), 1)\n",
    "                                                s=1\n",
    "\n",
    "                                        if cnt>14:\n",
    "                                                dist_smile_val=dist_smile\n",
    "                                else:\n",
    "                                        cnt=0\n",
    "                      \n",
    "\n",
    "                        i=i+1\n",
    "\n",
    "\n",
    "       \n",
    "        cv2.imshow(\"Frame\", frame)\n",
    "       \n",
    "        key = cv2.waitKey(1) & 0xFF\n",
    "        if key == ord(\"q\"):\n",
    "                break\n",
    " \n",
    "VideoStream(src=0).stop()\n",
    "cv2.destroyAllWindows()"
   ]
  },
  {
   "cell_type": "code",
   "execution_count": null,
   "metadata": {},
   "outputs": [],
   "source": []
  }
 ],
 "metadata": {
  "kernelspec": {
   "display_name": "Python 3",
   "language": "python",
   "name": "python3"
  },
  "language_info": {
   "codemirror_mode": {
    "name": "ipython",
    "version": 3
   },
   "file_extension": ".py",
   "mimetype": "text/x-python",
   "name": "python",
   "nbconvert_exporter": "python",
   "pygments_lexer": "ipython3",
   "version": "3.7.3"
  }
 },
 "nbformat": 4,
 "nbformat_minor": 2
}
